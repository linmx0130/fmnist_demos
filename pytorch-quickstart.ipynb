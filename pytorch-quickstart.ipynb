{
 "cells": [
  {
   "cell_type": "code",
   "execution_count": 1,
   "id": "1b97adbf-a633-4d2b-a3cf-a43a90337079",
   "metadata": {},
   "outputs": [],
   "source": [
    "import torch\n",
    "from torch import nn\n",
    "from torch.utils.data import DataLoader\n",
    "from torchvision import datasets\n",
    "from torchvision.transforms import ToTensor"
   ]
  },
  {
   "cell_type": "code",
   "execution_count": 2,
   "id": "c3a7fa8b-df30-43eb-a09c-51542935e7f5",
   "metadata": {},
   "outputs": [],
   "source": [
    "# Download training data from open datasets.\n",
    "training_data = datasets.FashionMNIST(\n",
    "    root=\"data\",\n",
    "    train=True,\n",
    "    download=True,\n",
    "    transform=ToTensor(),\n",
    ")\n",
    "\n",
    "# Download test data from open datasets.\n",
    "test_data = datasets.FashionMNIST(\n",
    "    root=\"data\",\n",
    "    train=False,\n",
    "    download=True,\n",
    "    transform=ToTensor(),\n",
    ")"
   ]
  },
  {
   "cell_type": "code",
   "execution_count": 3,
   "id": "ae426886-6355-4d18-99dc-9b06642616c8",
   "metadata": {},
   "outputs": [
    {
     "name": "stdout",
     "output_type": "stream",
     "text": [
      "Shape of X [N, C, H, W]: torch.Size([64, 1, 28, 28])\n",
      "Shape of y: torch.Size([64]) torch.int64\n"
     ]
    }
   ],
   "source": [
    "batch_size = 64\n",
    "\n",
    "# Create data loaders.\n",
    "train_dataloader = DataLoader(training_data, batch_size=batch_size)\n",
    "test_dataloader = DataLoader(test_data, batch_size=batch_size)\n",
    "\n",
    "for X, y in test_dataloader:\n",
    "    print(f\"Shape of X [N, C, H, W]: {X.shape}\")\n",
    "    print(f\"Shape of y: {y.shape} {y.dtype}\")\n",
    "    break\n"
   ]
  },
  {
   "cell_type": "code",
   "execution_count": 4,
   "id": "a2ee3742-f0b3-416c-92cf-d7bebbdcb5c2",
   "metadata": {},
   "outputs": [
    {
     "name": "stdout",
     "output_type": "stream",
     "text": [
      "Using mps device\n",
      "NeuralNetwork(\n",
      "  (flatten): Flatten(start_dim=1, end_dim=-1)\n",
      "  (linear_relu_stack): Sequential(\n",
      "    (0): Linear(in_features=784, out_features=512, bias=True)\n",
      "    (1): ReLU()\n",
      "    (2): Linear(in_features=512, out_features=512, bias=True)\n",
      "    (3): ReLU()\n",
      "    (4): Linear(in_features=512, out_features=10, bias=True)\n",
      "  )\n",
      ")\n"
     ]
    }
   ],
   "source": [
    "# Get cpu, gpu or mps device for training.\n",
    "device = (\n",
    "    \"cuda\"\n",
    "    if torch.cuda.is_available()\n",
    "    else \"mps\"\n",
    "    if torch.backends.mps.is_available()\n",
    "    else \"cpu\"\n",
    ")\n",
    "print(f\"Using {device} device\")\n",
    "\n",
    "# Define model\n",
    "class NeuralNetwork(nn.Module):\n",
    "    def __init__(self):\n",
    "        super().__init__()\n",
    "        self.flatten = nn.Flatten()\n",
    "        self.linear_relu_stack = nn.Sequential(\n",
    "            nn.Linear(28*28, 512),\n",
    "            nn.ReLU(),\n",
    "            nn.Linear(512, 512),\n",
    "            nn.ReLU(),\n",
    "            nn.Linear(512, 10)\n",
    "        )\n",
    "\n",
    "    def forward(self, x):\n",
    "        x = self.flatten(x)\n",
    "        logits = self.linear_relu_stack(x)\n",
    "        return logits\n",
    "\n",
    "model = NeuralNetwork().to(device)\n",
    "print(model)"
   ]
  },
  {
   "cell_type": "code",
   "execution_count": 5,
   "id": "a2485303-7bbb-42b2-a713-1d002a76749a",
   "metadata": {},
   "outputs": [],
   "source": [
    "loss_fn = nn.CrossEntropyLoss()\n",
    "optimizer = torch.optim.SGD(model.parameters(), lr=1e-3)"
   ]
  },
  {
   "cell_type": "code",
   "execution_count": 6,
   "id": "3577db00-a3f7-4dc4-a78b-8b8d18576f1b",
   "metadata": {},
   "outputs": [],
   "source": [
    "def train(dataloader, model, loss_fn, optimizer):\n",
    "    size = len(dataloader.dataset)\n",
    "    model.train()\n",
    "    for batch, (X, y) in enumerate(dataloader):\n",
    "        X, y = X.to(device), y.to(device)\n",
    "\n",
    "        # Compute prediction error\n",
    "        pred = model(X)\n",
    "        loss = loss_fn(pred, y)\n",
    "\n",
    "        # Backpropagation\n",
    "        loss.backward()\n",
    "        optimizer.step()\n",
    "        optimizer.zero_grad()\n",
    "\n",
    "        if batch % 100 == 0:\n",
    "            loss, current = loss.item(), (batch + 1) * len(X)\n",
    "            print(f\"loss: {loss:>7f}  [{current:>5d}/{size:>5d}]\")"
   ]
  },
  {
   "cell_type": "code",
   "execution_count": 7,
   "id": "07ebb41f-2613-4e96-a2f9-022086e35852",
   "metadata": {},
   "outputs": [],
   "source": [
    "def test(dataloader, model, loss_fn):\n",
    "    size = len(dataloader.dataset)\n",
    "    num_batches = len(dataloader)\n",
    "    model.eval()\n",
    "    test_loss, correct = 0, 0\n",
    "    with torch.no_grad():\n",
    "        for X, y in dataloader:\n",
    "            X, y = X.to(device), y.to(device)\n",
    "            pred = model(X)\n",
    "            test_loss += loss_fn(pred, y).item()\n",
    "            correct += (pred.argmax(1) == y).type(torch.float).sum().item()\n",
    "    test_loss /= num_batches\n",
    "    correct /= size\n",
    "    print(f\"Test Error: \\n Accuracy: {(100*correct):>0.1f}%, Avg loss: {test_loss:>8f} \\n\")"
   ]
  },
  {
   "cell_type": "code",
   "execution_count": 8,
   "id": "7828c6e9-147d-433a-8499-b36667c04980",
   "metadata": {},
   "outputs": [
    {
     "name": "stdout",
     "output_type": "stream",
     "text": [
      "Epoch 1\n",
      "-------------------------------\n",
      "loss: 2.319738  [   64/60000]\n",
      "loss: 2.302480  [ 6464/60000]\n",
      "loss: 2.275022  [12864/60000]\n",
      "loss: 2.268344  [19264/60000]\n",
      "loss: 2.258880  [25664/60000]\n",
      "loss: 2.225107  [32064/60000]\n",
      "loss: 2.236455  [38464/60000]\n",
      "loss: 2.205172  [44864/60000]\n",
      "loss: 2.207659  [51264/60000]\n",
      "loss: 2.168301  [57664/60000]\n",
      "Test Error: \n",
      " Accuracy: 33.3%, Avg loss: 2.163908 \n",
      "\n",
      "Epoch 2\n",
      "-------------------------------\n",
      "loss: 2.184390  [   64/60000]\n",
      "loss: 2.168607  [ 6464/60000]\n",
      "loss: 2.104859  [12864/60000]\n",
      "loss: 2.122202  [19264/60000]\n",
      "loss: 2.070551  [25664/60000]\n",
      "loss: 2.012159  [32064/60000]\n",
      "loss: 2.037423  [38464/60000]\n",
      "loss: 1.963570  [44864/60000]\n",
      "loss: 1.974950  [51264/60000]\n",
      "loss: 1.893196  [57664/60000]\n",
      "Test Error: \n",
      " Accuracy: 52.3%, Avg loss: 1.893155 \n",
      "\n",
      "Epoch 3\n",
      "-------------------------------\n",
      "loss: 1.935752  [   64/60000]\n",
      "loss: 1.899051  [ 6464/60000]\n",
      "loss: 1.777606  [12864/60000]\n",
      "loss: 1.818815  [19264/60000]\n",
      "loss: 1.700378  [25664/60000]\n",
      "loss: 1.662978  [32064/60000]\n",
      "loss: 1.677297  [38464/60000]\n",
      "loss: 1.585804  [44864/60000]\n",
      "loss: 1.615506  [51264/60000]\n",
      "loss: 1.504666  [57664/60000]\n",
      "Test Error: \n",
      " Accuracy: 58.1%, Avg loss: 1.523476 \n",
      "\n",
      "Epoch 4\n",
      "-------------------------------\n",
      "loss: 1.599211  [   64/60000]\n",
      "loss: 1.560865  [ 6464/60000]\n",
      "loss: 1.409070  [12864/60000]\n",
      "loss: 1.477725  [19264/60000]\n",
      "loss: 1.348232  [25664/60000]\n",
      "loss: 1.360306  [32064/60000]\n",
      "loss: 1.365829  [38464/60000]\n",
      "loss: 1.297547  [44864/60000]\n",
      "loss: 1.333295  [51264/60000]\n",
      "loss: 1.233490  [57664/60000]\n",
      "Test Error: \n",
      " Accuracy: 61.3%, Avg loss: 1.258395 \n",
      "\n",
      "Epoch 5\n",
      "-------------------------------\n",
      "loss: 1.341781  [   64/60000]\n",
      "loss: 1.323979  [ 6464/60000]\n",
      "loss: 1.155494  [12864/60000]\n",
      "loss: 1.259273  [19264/60000]\n",
      "loss: 1.121610  [25664/60000]\n",
      "loss: 1.161968  [32064/60000]\n",
      "loss: 1.177908  [38464/60000]\n",
      "loss: 1.120001  [44864/60000]\n",
      "loss: 1.158171  [51264/60000]\n",
      "loss: 1.076108  [57664/60000]\n",
      "Test Error: \n",
      " Accuracy: 63.7%, Avg loss: 1.095239 \n",
      "\n",
      "Done!\n"
     ]
    }
   ],
   "source": [
    "epochs = 5\n",
    "for t in range(epochs):\n",
    "    print(f\"Epoch {t+1}\\n-------------------------------\")\n",
    "    train(train_dataloader, model, loss_fn, optimizer)\n",
    "    test(test_dataloader, model, loss_fn)\n",
    "print(\"Done!\")"
   ]
  },
  {
   "cell_type": "code",
   "execution_count": null,
   "id": "e496bcaf-392a-47cd-ad1e-628790244fc4",
   "metadata": {},
   "outputs": [],
   "source": []
  }
 ],
 "metadata": {
  "kernelspec": {
   "display_name": "Python 3 (ipykernel)",
   "language": "python",
   "name": "python3"
  },
  "language_info": {
   "codemirror_mode": {
    "name": "ipython",
    "version": 3
   },
   "file_extension": ".py",
   "mimetype": "text/x-python",
   "name": "python",
   "nbconvert_exporter": "python",
   "pygments_lexer": "ipython3",
   "version": "3.12.4"
  }
 },
 "nbformat": 4,
 "nbformat_minor": 5
}
